{
 "cells": [
  {
   "cell_type": "markdown",
   "id": "6de54418",
   "metadata": {},
   "source": [
    "\n",
    "# Automated Machine Learning Pipeline\n",
    "\n",
    "This notebook implements an end-to-end ML pipeline, including dataset loading, preprocessing, training, and testing.\n",
    "\n",
    "---\n",
    "\n",
    "## Step 1: Dataset Loading\n",
    "\n",
    "We will use the Iris dataset for this example.\n"
   ]
  },
  {
   "cell_type": "code",
   "execution_count": 2,
   "id": "31ace49f",
   "metadata": {},
   "outputs": [
    {
     "data": {
      "text/html": [
       "<div>\n",
       "<style scoped>\n",
       "    .dataframe tbody tr th:only-of-type {\n",
       "        vertical-align: middle;\n",
       "    }\n",
       "\n",
       "    .dataframe tbody tr th {\n",
       "        vertical-align: top;\n",
       "    }\n",
       "\n",
       "    .dataframe thead th {\n",
       "        text-align: right;\n",
       "    }\n",
       "</style>\n",
       "<table border=\"1\" class=\"dataframe\">\n",
       "  <thead>\n",
       "    <tr style=\"text-align: right;\">\n",
       "      <th></th>\n",
       "      <th>sepal length (cm)</th>\n",
       "      <th>sepal width (cm)</th>\n",
       "      <th>petal length (cm)</th>\n",
       "      <th>petal width (cm)</th>\n",
       "      <th>target</th>\n",
       "    </tr>\n",
       "  </thead>\n",
       "  <tbody>\n",
       "    <tr>\n",
       "      <th>0</th>\n",
       "      <td>5.1</td>\n",
       "      <td>3.5</td>\n",
       "      <td>1.4</td>\n",
       "      <td>0.2</td>\n",
       "      <td>0</td>\n",
       "    </tr>\n",
       "    <tr>\n",
       "      <th>1</th>\n",
       "      <td>4.9</td>\n",
       "      <td>3.0</td>\n",
       "      <td>1.4</td>\n",
       "      <td>0.2</td>\n",
       "      <td>0</td>\n",
       "    </tr>\n",
       "    <tr>\n",
       "      <th>2</th>\n",
       "      <td>4.7</td>\n",
       "      <td>3.2</td>\n",
       "      <td>1.3</td>\n",
       "      <td>0.2</td>\n",
       "      <td>0</td>\n",
       "    </tr>\n",
       "    <tr>\n",
       "      <th>3</th>\n",
       "      <td>4.6</td>\n",
       "      <td>3.1</td>\n",
       "      <td>1.5</td>\n",
       "      <td>0.2</td>\n",
       "      <td>0</td>\n",
       "    </tr>\n",
       "    <tr>\n",
       "      <th>4</th>\n",
       "      <td>5.0</td>\n",
       "      <td>3.6</td>\n",
       "      <td>1.4</td>\n",
       "      <td>0.2</td>\n",
       "      <td>0</td>\n",
       "    </tr>\n",
       "  </tbody>\n",
       "</table>\n",
       "</div>"
      ],
      "text/plain": [
       "   sepal length (cm)  sepal width (cm)  petal length (cm)  petal width (cm)  \\\n",
       "0                5.1               3.5                1.4               0.2   \n",
       "1                4.9               3.0                1.4               0.2   \n",
       "2                4.7               3.2                1.3               0.2   \n",
       "3                4.6               3.1                1.5               0.2   \n",
       "4                5.0               3.6                1.4               0.2   \n",
       "\n",
       "   target  \n",
       "0       0  \n",
       "1       0  \n",
       "2       0  \n",
       "3       0  \n",
       "4       0  "
      ]
     },
     "execution_count": 2,
     "metadata": {},
     "output_type": "execute_result"
    }
   ],
   "source": [
    "\n",
    "# Import necessary libraries\n",
    "from sklearn.datasets import load_iris\n",
    "import pandas as pd\n",
    "\n",
    "# Load the Iris dataset\n",
    "iris = load_iris()\n",
    "data = pd.DataFrame(iris.data, columns=iris.feature_names)\n",
    "data['target'] = iris.target\n",
    "\n",
    "# Display the first few rows\n",
    "data.head()\n"
   ]
  },
  {
   "cell_type": "markdown",
   "id": "3d7d0013",
   "metadata": {},
   "source": [
    "\n",
    "## Step 2: Data Preprocessing\n",
    "\n",
    "We will handle missing values (if any), normalize the data, and prepare it for training.\n"
   ]
  },
  {
   "cell_type": "code",
   "execution_count": 3,
   "id": "7fb38e7f",
   "metadata": {},
   "outputs": [
    {
     "data": {
      "text/plain": [
       "array([[-1.50652052,  1.24920112, -1.56757623, -1.3154443 ],\n",
       "       [-0.17367395,  3.09077525, -1.2833891 , -1.05217993],\n",
       "       [ 1.03800476,  0.09821729,  0.36489628,  0.26414192],\n",
       "       [-1.26418478,  0.78880759, -1.22655167, -1.3154443 ],\n",
       "       [-1.74885626,  0.32841405, -1.39706395, -1.3154443 ]])"
      ]
     },
     "execution_count": 3,
     "metadata": {},
     "output_type": "execute_result"
    }
   ],
   "source": [
    "\n",
    "from sklearn.model_selection import train_test_split\n",
    "from sklearn.preprocessing import StandardScaler\n",
    "\n",
    "# Function to preprocess the data\n",
    "def preprocess_data(df):\n",
    "    # Handle missing values (if any)\n",
    "    df = df.fillna(df.mean())\n",
    "    \n",
    "    # Separate features and target\n",
    "    X = df.iloc[:, :-1]\n",
    "    y = df['target']\n",
    "    \n",
    "    # Normalize the features\n",
    "    scaler = StandardScaler()\n",
    "    X_scaled = scaler.fit_transform(X)\n",
    "    \n",
    "    # Split the data into training and testing sets\n",
    "    X_train, X_test, y_train, y_test = train_test_split(X_scaled, y, test_size=0.2, random_state=42)\n",
    "    return X_train, X_test, y_train, y_test\n",
    "\n",
    "# Preprocess the data\n",
    "X_train, X_test, y_train, y_test = preprocess_data(data)\n",
    "X_train[:5]  # Display the first few rows of the preprocessed data\n"
   ]
  },
  {
   "cell_type": "markdown",
   "id": "c6d27584",
   "metadata": {},
   "source": [
    "\n",
    "## Step 3: Model Training\n",
    "\n",
    "We will train a Decision Tree classifier using the preprocessed data.\n"
   ]
  },
  {
   "cell_type": "code",
   "execution_count": 4,
   "id": "1ae7c062",
   "metadata": {},
   "outputs": [
    {
     "name": "stdout",
     "output_type": "stream",
     "text": [
      "Model Accuracy: 1.00\n"
     ]
    }
   ],
   "source": [
    "\n",
    "from sklearn.tree import DecisionTreeClassifier\n",
    "from sklearn.metrics import accuracy_score\n",
    "\n",
    "# Train the model\n",
    "model = DecisionTreeClassifier(random_state=42)\n",
    "model.fit(X_train, y_train)\n",
    "\n",
    "# Evaluate the model\n",
    "y_pred = model.predict(X_test)\n",
    "accuracy = accuracy_score(y_test, y_pred)\n",
    "print(f\"Model Accuracy: {accuracy:.2f}\")\n"
   ]
  },
  {
   "cell_type": "markdown",
   "id": "39926f0f",
   "metadata": {},
   "source": [
    "\n",
    "## Step 4: Saving the Model\n",
    "\n",
    "We will save the trained model using `joblib`.\n"
   ]
  },
  {
   "cell_type": "code",
   "execution_count": 5,
   "id": "9917e8f7",
   "metadata": {},
   "outputs": [
    {
     "name": "stdout",
     "output_type": "stream",
     "text": [
      "Model saved as 'decision_tree_model.pkl'\n"
     ]
    }
   ],
   "source": [
    "\n",
    "import joblib\n",
    "\n",
    "# Save the model\n",
    "joblib.dump(model, 'decision_tree_model.pkl')\n",
    "print(\"Model saved as 'decision_tree_model.pkl'\")\n"
   ]
  },
  {
   "cell_type": "markdown",
   "id": "01bee1db",
   "metadata": {},
   "source": [
    "\n",
    "## Step 5: Unit Tests\n",
    "\n",
    "We will write and execute unit tests to verify the preprocessing function and model performance.\n"
   ]
  },
  {
   "cell_type": "code",
   "execution_count": 6,
   "id": "6fc6dcd6",
   "metadata": {},
   "outputs": [
    {
     "name": "stdout",
     "output_type": "stream",
     "text": [
      "Preprocessing test passed!\n",
      "Model performance test passed!\n"
     ]
    }
   ],
   "source": [
    "\n",
    "# Unit test for data preprocessing\n",
    "def test_preprocess_data():\n",
    "    X_train, X_test, y_train, y_test = preprocess_data(data)\n",
    "    assert X_train.shape[0] > 0, \"Training data is empty!\"\n",
    "    assert X_test.shape[0] > 0, \"Testing data is empty!\"\n",
    "    assert len(y_train) > 0, \"Training labels are empty!\"\n",
    "    assert len(y_test) > 0, \"Testing labels are empty!\"\n",
    "    print(\"Preprocessing test passed!\")\n",
    "\n",
    "# Unit test for model performance\n",
    "def test_model_performance():\n",
    "    assert accuracy > 0.8, \"Model accuracy is below 80%!\"\n",
    "    print(\"Model performance test passed!\")\n",
    "\n",
    "# Run the tests\n",
    "test_preprocess_data()\n",
    "test_model_performance()\n"
   ]
  }
 ],
 "metadata": {
  "kernelspec": {
   "display_name": "base",
   "language": "python",
   "name": "python3"
  },
  "language_info": {
   "codemirror_mode": {
    "name": "ipython",
    "version": 3
   },
   "file_extension": ".py",
   "mimetype": "text/x-python",
   "name": "python",
   "nbconvert_exporter": "python",
   "pygments_lexer": "ipython3",
   "version": "3.12.7"
  }
 },
 "nbformat": 4,
 "nbformat_minor": 5
}
